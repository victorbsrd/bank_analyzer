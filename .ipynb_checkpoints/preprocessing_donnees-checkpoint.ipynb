{
 "cells": [
  {
   "cell_type": "markdown",
   "metadata": {},
   "source": [
    "# Welcome to the pre-processing notebook\n",
    "This notebooks takes as input the output of the Textractor script ran over my bank data.\n",
    "It then does most of the preprocessing so that we can analyze it."
   ]
  },
  {
   "cell_type": "markdown",
   "metadata": {},
   "source": [
    "## Import the data"
   ]
  },
  {
   "cell_type": "code",
   "execution_count": null,
   "metadata": {},
   "outputs": [],
   "source": [
    "import pandas as pd"
   ]
  },
  {
   "cell_type": "code",
   "execution_count": null,
   "metadata": {},
   "outputs": [],
   "source": [
    "def to_csv(file_path):\n",
    "    return pd.read_csv(file_path)"
   ]
  },
  {
   "cell_type": "code",
   "execution_count": null,
   "metadata": {},
   "outputs": [],
   "source": [
    "tabl1 = to_csv(r\"C:\\Users\\PC_victor\\Documents\\7_Launchpad\\3_pdf_parser\\textractor\\textractor_clean\\2021_06_04_17h_18min_08s\\ReleveDeCompte_x_20201208\\ReleveDeCompte_x_20201208-pdf-page-1-tables.csv\")\n",
    "tabl2 = to_csv(r\"C:\\Users\\PC_victor\\Documents\\7_Launchpad\\3_pdf_parser\\textractor\\textractor_clean\\2021_06_04_17h_18min_08s\\ReleveDeCompte_x_20201208\\ReleveDeCompte_x_20201208-pdf-page-2-tables.csv\")\n",
    "decembre = pd.concat([tabl1,tabl2])"
   ]
  },
  {
   "cell_type": "code",
   "execution_count": null,
   "metadata": {},
   "outputs": [],
   "source": [
    "tabl1 = to_csv(r\"C:\\Users\\PC_victor\\Documents\\7_Launchpad\\3_pdf_parser\\textractor\\textractor_clean\\2021_06_04_17h_18min_08s\\ReleveDeCompte_00052001915_20210108\\ReleveDeCompte_00052001915_20210108-pdf-page-1-tables.csv\")\n",
    "tabl2 = to_csv(r\"C:\\Users\\PC_victor\\Documents\\7_Launchpad\\3_pdf_parser\\textractor\\textractor_clean\\2021_06_04_17h_18min_08s\\ReleveDeCompte_00052001915_20210108\\ReleveDeCompte_00052001915_20210108-pdf-page-2-tables.csv\")\n",
    "tabl3 = to_csv(r\"C:\\Users\\PC_victor\\Documents\\7_Launchpad\\3_pdf_parser\\textractor\\textractor_clean\\2021_06_04_17h_18min_08s\\ReleveDeCompte_00052001915_20210108\\ReleveDeCompte_00052001915_20210108-pdf-page-3-tables.csv\")\n",
    "janvier = pd.concat([tabl1,tabl2,tabl3])"
   ]
  },
  {
   "cell_type": "code",
   "execution_count": null,
   "metadata": {},
   "outputs": [],
   "source": [
    "t1 = to_csv(r\"C:\\Users\\PC_victor\\Documents\\7_Launchpad\\3_pdf_parser\\textractor\\textractor_clean\\2021_06_04_17h_18min_08s\\ReleveDeCompte_00052001915_20210209\\ReleveDeCompte_00052001915_20210209-pdf-page-1-tables.csv\")\n",
    "t2 = to_csv(r\"C:\\Users\\PC_victor\\Documents\\7_Launchpad\\3_pdf_parser\\textractor\\textractor_clean\\2021_06_04_17h_18min_08s\\ReleveDeCompte_00052001915_20210209\\ReleveDeCompte_00052001915_20210209-pdf-page-2-tables.csv\")\n",
    "t3 = to_csv(r\"C:\\Users\\PC_victor\\Documents\\7_Launchpad\\3_pdf_parser\\textractor\\textractor_clean\\2021_06_04_17h_18min_08s\\ReleveDeCompte_00052001915_20210209\\ReleveDeCompte_00052001915_20210209-pdf-page-3-tables.csv\")\n",
    "fevrier = pd.concat([t1,t2,t3])"
   ]
  },
  {
   "cell_type": "code",
   "execution_count": null,
   "metadata": {},
   "outputs": [],
   "source": [
    "t1 = to_csv(r\"C:\\Users\\PC_victor\\Documents\\7_Launchpad\\3_pdf_parser\\textractor\\textractor_clean\\2021_06_04_17h_18min_08s\\ReleveDeCompte_00052001915_20210308\\ReleveDeCompte_00052001915_20210308-pdf-page-1-tables.csv\")\n",
    "t2 = to_csv(r\"C:\\Users\\PC_victor\\Documents\\7_Launchpad\\3_pdf_parser\\textractor\\textractor_clean\\2021_06_04_17h_18min_08s\\ReleveDeCompte_00052001915_20210308\\ReleveDeCompte_00052001915_20210308-pdf-page-2-tables.csv\")\n",
    "t3 = to_csv(r\"C:\\Users\\PC_victor\\Documents\\7_Launchpad\\3_pdf_parser\\textractor\\textractor_clean\\2021_06_04_17h_18min_08s\\ReleveDeCompte_00052001915_20210308\\ReleveDeCompte_00052001915_20210308-pdf-page-3-tables.csv\")\n",
    "mars = pd.concat([t1,t2,t3])"
   ]
  },
  {
   "cell_type": "code",
   "execution_count": null,
   "metadata": {},
   "outputs": [],
   "source": [
    "t1 = to_csv(r\"C:\\Users\\PC_victor\\Documents\\7_Launchpad\\3_pdf_parser\\textractor\\textractor_clean\\2021_06_04_17h_18min_08s\\ReleveDeCompte_00052001915_20210408\\ReleveDeCompte_00052001915_20210408-pdf-page-1-tables.csv\")\n",
    "t2 = to_csv(r\"C:\\Users\\PC_victor\\Documents\\7_Launchpad\\3_pdf_parser\\textractor\\textractor_clean\\2021_06_04_17h_18min_08s\\ReleveDeCompte_00052001915_20210408\\ReleveDeCompte_00052001915_20210408-pdf-page-2-tables.csv\")\n",
    "t3 = to_csv(r\"C:\\Users\\PC_victor\\Documents\\7_Launchpad\\3_pdf_parser\\textractor\\textractor_clean\\2021_06_04_17h_18min_08s\\ReleveDeCompte_00052001915_20210408\\ReleveDeCompte_00052001915_20210408-pdf-page-3-tables.csv\")\n",
    "avril = pd.concat([t1,t2,t3])"
   ]
  },
  {
   "cell_type": "code",
   "execution_count": null,
   "metadata": {},
   "outputs": [],
   "source": [
    "t1 = to_csv(r\"C:\\Users\\PC_victor\\Documents\\7_Launchpad\\3_pdf_parser\\textractor\\textractor_clean\\2021_06_04_17h_18min_08s\\ReleveDeCompte_00052001915_20210507\\ReleveDeCompte_00052001915_20210507-pdf-page-1-tables.csv\")\n",
    "t2 = to_csv(r\"C:\\Users\\PC_victor\\Documents\\7_Launchpad\\3_pdf_parser\\textractor\\textractor_clean\\2021_06_04_17h_18min_08s\\ReleveDeCompte_00052001915_20210507\\ReleveDeCompte_00052001915_20210507-pdf-page-2-tables.csv\")\n",
    "t3 = to_csv(r\"C:\\Users\\PC_victor\\Documents\\7_Launchpad\\3_pdf_parser\\textractor\\textractor_clean\\2021_06_04_17h_18min_08s\\ReleveDeCompte_00052001915_20210507\\ReleveDeCompte_00052001915_20210507-pdf-page-3-tables.csv\")\n",
    "mai = pd.concat([t1,t2,t3])"
   ]
  },
  {
   "cell_type": "code",
   "execution_count": null,
   "metadata": {},
   "outputs": [],
   "source": [
    "mois = [decembre, janvier, fevrier, mars, avril, mai]"
   ]
  },
  {
   "cell_type": "code",
   "execution_count": null,
   "metadata": {},
   "outputs": [],
   "source": [
    "for m in mois:\n",
    "    print(m.shape[0])"
   ]
  },
  {
   "cell_type": "markdown",
   "metadata": {},
   "source": [
    "## how does that look like?"
   ]
  },
  {
   "cell_type": "code",
   "execution_count": null,
   "metadata": {},
   "outputs": [],
   "source": [
    "decembre.head()"
   ]
  },
  {
   "cell_type": "code",
   "execution_count": null,
   "metadata": {},
   "outputs": [],
   "source": [
    "def validate(table, line, throw):\n",
    "    date_text = table.date[line]\n",
    "    if len(date_text.split('/')) < 2:\n",
    "        throw.append(line) \n",
    "    return throw"
   ]
  },
  {
   "cell_type": "code",
   "execution_count": null,
   "metadata": {},
   "outputs": [],
   "source": [
    "def clean_table(table):\n",
    "    table = table[table.date.notnull()].reset_index()\n",
    "    table.drop('index', axis = 1, inplace = True)\n",
    "    throw = []\n",
    "    for line in range(table.shape[0]):\n",
    "        throw = validate(table, line, throw)\n",
    "    print(throw)\n",
    "    table.drop(labels = throw, axis = 0, inplace = True)\n",
    "    return table"
   ]
  },
  {
   "cell_type": "code",
   "execution_count": null,
   "metadata": {},
   "outputs": [],
   "source": [
    "clean_mois = []\n",
    "for m in mois:\n",
    "    m = m.reset_index()\n",
    "    m.columns = ['date','valeur','nature_operation','debit','credit']\n",
    "    clean_mois.append(clean_table(m))"
   ]
  },
  {
   "cell_type": "code",
   "execution_count": null,
   "metadata": {},
   "outputs": [],
   "source": [
    "data = pd.concat(clean_mois)"
   ]
  },
  {
   "cell_type": "code",
   "execution_count": null,
   "metadata": {},
   "outputs": [],
   "source": [
    "data"
   ]
  },
  {
   "cell_type": "code",
   "execution_count": null,
   "metadata": {},
   "outputs": [],
   "source": [
    "data.fillna('0,0', inplace = True)"
   ]
  },
  {
   "cell_type": "code",
   "execution_count": null,
   "metadata": {},
   "outputs": [],
   "source": [
    "data = data.reset_index()\n",
    "data.drop('index', axis = 1, inplace = True)"
   ]
  },
  {
   "cell_type": "code",
   "execution_count": null,
   "metadata": {},
   "outputs": [],
   "source": [
    "data.to_csv('clean_data.csv')"
   ]
  },
  {
   "cell_type": "code",
   "execution_count": null,
   "metadata": {},
   "outputs": [],
   "source": [
    "data.nature_operation.values"
   ]
  },
  {
   "cell_type": "code",
   "execution_count": null,
   "metadata": {},
   "outputs": [],
   "source": [
    "pd.set_option('display.max_rows', data.shape[0]+1)"
   ]
  },
  {
   "cell_type": "code",
   "execution_count": null,
   "metadata": {},
   "outputs": [],
   "source": [
    "test = pd.to_datetime(data.date, dayfirst = True)"
   ]
  },
  {
   "cell_type": "code",
   "execution_count": null,
   "metadata": {},
   "outputs": [],
   "source": [
    "data.date = pd.to_datetime(data.date, dayfirst = True)\n",
    "data.valeur = pd.to_datetime(data.valeur, dayfirst = True)"
   ]
  },
  {
   "cell_type": "code",
   "execution_count": null,
   "metadata": {
    "scrolled": true
   },
   "outputs": [],
   "source": [
    "data.info()"
   ]
  },
  {
   "cell_type": "code",
   "execution_count": null,
   "metadata": {},
   "outputs": [],
   "source": [
    "def clean_debit_credit(series):\n",
    "    clean = []\n",
    "    temp = series.apply(lambda x: x.replace(',','.')).str.split('.')\n",
    "    for d in temp:\n",
    "        clean.append(''.join(d[:-1]) + '.' + d[-1])\n",
    "    return clean"
   ]
  },
  {
   "cell_type": "code",
   "execution_count": null,
   "metadata": {},
   "outputs": [],
   "source": [
    "data.debit = clean_debit_credit(data.debit)"
   ]
  },
  {
   "cell_type": "code",
   "execution_count": null,
   "metadata": {},
   "outputs": [],
   "source": [
    "data.credit = clean_debit_credit(data.credit)"
   ]
  },
  {
   "cell_type": "code",
   "execution_count": null,
   "metadata": {},
   "outputs": [],
   "source": [
    "data.debit = data.debit.astype('float32')\n",
    "data.credit = data.credit.astype('float32')"
   ]
  },
  {
   "cell_type": "code",
   "execution_count": null,
   "metadata": {},
   "outputs": [],
   "source": [
    "data.info()"
   ]
  },
  {
   "cell_type": "code",
   "execution_count": null,
   "metadata": {},
   "outputs": [],
   "source": [
    "data.to_csv('final_data.csv')"
   ]
  }
 ],
 "metadata": {
  "kernelspec": {
   "display_name": "Python 3",
   "language": "python",
   "name": "python3"
  },
  "language_info": {
   "codemirror_mode": {
    "name": "ipython",
    "version": 3
   },
   "file_extension": ".py",
   "mimetype": "text/x-python",
   "name": "python",
   "nbconvert_exporter": "python",
   "pygments_lexer": "ipython3",
   "version": "3.7.3"
  },
  "toc": {
   "base_numbering": 1,
   "nav_menu": {},
   "number_sections": true,
   "sideBar": true,
   "skip_h1_title": false,
   "title_cell": "Table of Contents",
   "title_sidebar": "Contents",
   "toc_cell": false,
   "toc_position": {},
   "toc_section_display": true,
   "toc_window_display": false
  }
 },
 "nbformat": 4,
 "nbformat_minor": 4
}
