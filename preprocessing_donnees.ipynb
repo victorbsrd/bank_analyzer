{
 "cells": [
  {
   "cell_type": "markdown",
   "metadata": {},
   "source": [
    "# Welcome to the pre-processing notebook\n",
    "This notebooks takes as input the output of the Textractor script ran over my bank data.\n",
    "It then does most of the preprocessing so that we can analyze it."
   ]
  },
  {
   "cell_type": "markdown",
   "metadata": {},
   "source": [
    "## Import the data"
   ]
  },
  {
   "cell_type": "code",
   "execution_count": 1,
   "metadata": {},
   "outputs": [],
   "source": [
    "import pandas as pd"
   ]
  },
  {
   "cell_type": "code",
   "execution_count": 4,
   "metadata": {},
   "outputs": [],
   "source": [
    "def to_csv(file_path):\n",
    "    return pd.read_csv(file_path)"
   ]
  },
  {
   "cell_type": "code",
   "execution_count": 2,
   "metadata": {},
   "outputs": [],
   "source": [
    "tabl1 = to_csv(r\"C:\\Users\\PC_victor\\Documents\\7_Launchpad\\3_pdf_parser\\textractor\\textractor_clean\\2021_06_04_17h_18min_08s\\ReleveDeCompte_x_20201208\\ReleveDeCompte_x_20201208-pdf-page-1-tables.csv\")\n",
    "tabl2 = to_csv(r\"C:\\Users\\PC_victor\\Documents\\7_Launchpad\\3_pdf_parser\\textractor\\textractor_clean\\2021_06_04_17h_18min_08s\\ReleveDeCompte_x_20201208\\ReleveDeCompte_x_20201208-pdf-page-2-tables.csv\")\n",
    "decembre = pd.concat([tabl1,tabl2])"
   ]
  },
  {
   "cell_type": "code",
   "execution_count": 5,
   "metadata": {},
   "outputs": [],
   "source": [
    "tabl1 = to_csv(r\"C:\\Users\\PC_victor\\Documents\\7_Launchpad\\3_pdf_parser\\textractor\\textractor_clean\\2021_06_04_17h_18min_08s\\ReleveDeCompte_00052001915_20210108\\ReleveDeCompte_00052001915_20210108-pdf-page-1-tables.csv\")\n",
    "tabl2 = to_csv(r\"C:\\Users\\PC_victor\\Documents\\7_Launchpad\\3_pdf_parser\\textractor\\textractor_clean\\2021_06_04_17h_18min_08s\\ReleveDeCompte_00052001915_20210108\\ReleveDeCompte_00052001915_20210108-pdf-page-2-tables.csv\")\n",
    "tabl3 = to_csv(r\"C:\\Users\\PC_victor\\Documents\\7_Launchpad\\3_pdf_parser\\textractor\\textractor_clean\\2021_06_04_17h_18min_08s\\ReleveDeCompte_00052001915_20210108\\ReleveDeCompte_00052001915_20210108-pdf-page-3-tables.csv\")\n",
    "janvier = pd.concat([tabl1,tabl2,tabl3])"
   ]
  },
  {
   "cell_type": "code",
   "execution_count": 7,
   "metadata": {},
   "outputs": [],
   "source": [
    "t1 = to_csv(r\"C:\\Users\\PC_victor\\Documents\\7_Launchpad\\3_pdf_parser\\textractor\\textractor_clean\\2021_06_04_17h_18min_08s\\ReleveDeCompte_00052001915_20210209\\ReleveDeCompte_00052001915_20210209-pdf-page-1-tables.csv\")\n",
    "t2 = to_csv(r\"C:\\Users\\PC_victor\\Documents\\7_Launchpad\\3_pdf_parser\\textractor\\textractor_clean\\2021_06_04_17h_18min_08s\\ReleveDeCompte_00052001915_20210209\\ReleveDeCompte_00052001915_20210209-pdf-page-2-tables.csv\")\n",
    "t3 = to_csv(r\"C:\\Users\\PC_victor\\Documents\\7_Launchpad\\3_pdf_parser\\textractor\\textractor_clean\\2021_06_04_17h_18min_08s\\ReleveDeCompte_00052001915_20210209\\ReleveDeCompte_00052001915_20210209-pdf-page-3-tables.csv\")\n",
    "fevrier = pd.concat([t1,t2,t3])"
   ]
  },
  {
   "cell_type": "code",
   "execution_count": 8,
   "metadata": {},
   "outputs": [],
   "source": [
    "t1 = to_csv(r\"C:\\Users\\PC_victor\\Documents\\7_Launchpad\\3_pdf_parser\\textractor\\textractor_clean\\2021_06_04_17h_18min_08s\\ReleveDeCompte_00052001915_20210308\\ReleveDeCompte_00052001915_20210308-pdf-page-1-tables.csv\")\n",
    "t2 = to_csv(r\"C:\\Users\\PC_victor\\Documents\\7_Launchpad\\3_pdf_parser\\textractor\\textractor_clean\\2021_06_04_17h_18min_08s\\ReleveDeCompte_00052001915_20210308\\ReleveDeCompte_00052001915_20210308-pdf-page-2-tables.csv\")\n",
    "t3 = to_csv(r\"C:\\Users\\PC_victor\\Documents\\7_Launchpad\\3_pdf_parser\\textractor\\textractor_clean\\2021_06_04_17h_18min_08s\\ReleveDeCompte_00052001915_20210308\\ReleveDeCompte_00052001915_20210308-pdf-page-3-tables.csv\")\n",
    "mars = pd.concat([t1,t2,t3])"
   ]
  },
  {
   "cell_type": "code",
   "execution_count": 9,
   "metadata": {},
   "outputs": [],
   "source": [
    "t1 = to_csv(r\"C:\\Users\\PC_victor\\Documents\\7_Launchpad\\3_pdf_parser\\textractor\\textractor_clean\\2021_06_04_17h_18min_08s\\ReleveDeCompte_00052001915_20210408\\ReleveDeCompte_00052001915_20210408-pdf-page-1-tables.csv\")\n",
    "t2 = to_csv(r\"C:\\Users\\PC_victor\\Documents\\7_Launchpad\\3_pdf_parser\\textractor\\textractor_clean\\2021_06_04_17h_18min_08s\\ReleveDeCompte_00052001915_20210408\\ReleveDeCompte_00052001915_20210408-pdf-page-2-tables.csv\")\n",
    "t3 = to_csv(r\"C:\\Users\\PC_victor\\Documents\\7_Launchpad\\3_pdf_parser\\textractor\\textractor_clean\\2021_06_04_17h_18min_08s\\ReleveDeCompte_00052001915_20210408\\ReleveDeCompte_00052001915_20210408-pdf-page-3-tables.csv\")\n",
    "avril = pd.concat([t1,t2,t3])"
   ]
  },
  {
   "cell_type": "code",
   "execution_count": 10,
   "metadata": {},
   "outputs": [],
   "source": [
    "t1 = to_csv(r\"C:\\Users\\PC_victor\\Documents\\7_Launchpad\\3_pdf_parser\\textractor\\textractor_clean\\2021_06_04_17h_18min_08s\\ReleveDeCompte_00052001915_20210507\\ReleveDeCompte_00052001915_20210507-pdf-page-1-tables.csv\")\n",
    "t2 = to_csv(r\"C:\\Users\\PC_victor\\Documents\\7_Launchpad\\3_pdf_parser\\textractor\\textractor_clean\\2021_06_04_17h_18min_08s\\ReleveDeCompte_00052001915_20210507\\ReleveDeCompte_00052001915_20210507-pdf-page-2-tables.csv\")\n",
    "t3 = to_csv(r\"C:\\Users\\PC_victor\\Documents\\7_Launchpad\\3_pdf_parser\\textractor\\textractor_clean\\2021_06_04_17h_18min_08s\\ReleveDeCompte_00052001915_20210507\\ReleveDeCompte_00052001915_20210507-pdf-page-3-tables.csv\")\n",
    "mai = pd.concat([t1,t2,t3])"
   ]
  },
  {
   "cell_type": "code",
   "execution_count": 11,
   "metadata": {},
   "outputs": [],
   "source": [
    "mois = [decembre, janvier, fevrier, mars, avril, mai]"
   ]
  },
  {
   "cell_type": "code",
   "execution_count": 12,
   "metadata": {},
   "outputs": [
    {
     "name": "stdout",
     "output_type": "stream",
     "text": [
      "32\n",
      "52\n",
      "60\n",
      "65\n",
      "57\n",
      "75\n"
     ]
    }
   ],
   "source": [
    "for m in mois:\n",
    "    print(m.shape[0])"
   ]
  },
  {
   "cell_type": "markdown",
   "metadata": {},
   "source": [
    "## how does that look like?"
   ]
  },
  {
   "cell_type": "code",
   "execution_count": 13,
   "metadata": {},
   "outputs": [
    {
     "data": {
      "text/html": [
       "<div>\n",
       "<style scoped>\n",
       "    .dataframe tbody tr th:only-of-type {\n",
       "        vertical-align: middle;\n",
       "    }\n",
       "\n",
       "    .dataframe tbody tr th {\n",
       "        vertical-align: top;\n",
       "    }\n",
       "\n",
       "    .dataframe thead th {\n",
       "        text-align: right;\n",
       "    }\n",
       "</style>\n",
       "<table border=\"1\" class=\"dataframe\">\n",
       "  <thead>\n",
       "    <tr style=\"text-align: right;\">\n",
       "      <th></th>\n",
       "      <th></th>\n",
       "      <th></th>\n",
       "      <th></th>\n",
       "      <th>Table</th>\n",
       "    </tr>\n",
       "  </thead>\n",
       "  <tbody>\n",
       "    <tr>\n",
       "      <th>Date</th>\n",
       "      <th>Valeur</th>\n",
       "      <th>Nature de l'op�ration</th>\n",
       "      <th>D�bit</th>\n",
       "      <td>Cr�dit</td>\n",
       "    </tr>\n",
       "    <tr>\n",
       "      <th>NaN</th>\n",
       "      <th>NaN</th>\n",
       "      <th>SOLDE PR�C�DENT AU 07/11/2020</th>\n",
       "      <th>NaN</th>\n",
       "      <td>1.681,64</td>\n",
       "    </tr>\n",
       "    <tr>\n",
       "      <th>09/11/2020</th>\n",
       "      <th>09/11/2020</th>\n",
       "      <th>CARTE X9328 REMBT 08/11 SNCF INTERNET COMMERCE ELECTRONIQUE</th>\n",
       "      <th>NaN</th>\n",
       "      <td>22,00</td>\n",
       "    </tr>\n",
       "    <tr>\n",
       "      <th rowspan=\"2\" valign=\"top\">12/11/2020</th>\n",
       "      <th rowspan=\"2\" valign=\"top\">12/11/2020</th>\n",
       "      <th>CARTE X9328 04/11 FNAC.COM COMMERCE ELECTRONIQUE</th>\n",
       "      <th>349,00</th>\n",
       "      <td>NaN</td>\n",
       "    </tr>\n",
       "    <tr>\n",
       "      <th>CARTE X9328 10/11 VELIB METROPOLE COMMERCE ELECTRONIQUE</th>\n",
       "      <th>7,10</th>\n",
       "      <td>NaN</td>\n",
       "    </tr>\n",
       "  </tbody>\n",
       "</table>\n",
       "</div>"
      ],
      "text/plain": [
       "                                                                                        Table\n",
       "Date        Valeur      Nature de l'op�ration                              D�bit      Cr�dit \n",
       "NaN         NaN         SOLDE PR�C�DENT AU 07/11/2020                      NaN      1.681,64 \n",
       "09/11/2020  09/11/2020  CARTE X9328 REMBT 08/11 SNCF INTERNET COMMERCE ... NaN         22,00 \n",
       "12/11/2020  12/11/2020  CARTE X9328 04/11 FNAC.COM COMMERCE ELECTRONIQUE   349,00         NaN\n",
       "                        CARTE X9328 10/11 VELIB METROPOLE COMMERCE ELEC... 7,10           NaN"
      ]
     },
     "execution_count": 13,
     "metadata": {},
     "output_type": "execute_result"
    }
   ],
   "source": [
    "decembre.head()"
   ]
  },
  {
   "cell_type": "code",
   "execution_count": 14,
   "metadata": {},
   "outputs": [],
   "source": [
    "def validate(table, line, throw):\n",
    "    date_text = table.date[line]\n",
    "    if len(date_text.split('/')) < 2:\n",
    "        throw.append(line) \n",
    "    return throw"
   ]
  },
  {
   "cell_type": "code",
   "execution_count": 15,
   "metadata": {},
   "outputs": [],
   "source": [
    "def clean_table(table):\n",
    "    table = table[table.date.notnull()].reset_index()\n",
    "    table.drop('index', axis = 1, inplace = True)\n",
    "    throw = []\n",
    "    for line in range(table.shape[0]):\n",
    "        throw = validate(table, line, throw)\n",
    "    print(throw)\n",
    "    table.drop(labels = throw, axis = 0, inplace = True)\n",
    "    return table"
   ]
  },
  {
   "cell_type": "code",
   "execution_count": 16,
   "metadata": {},
   "outputs": [
    {
     "name": "stdout",
     "output_type": "stream",
     "text": [
      "[0, 15]\n",
      "[0, 17, 41]\n",
      "[0, 15, 48]\n",
      "[0, 17, 47]\n",
      "[0, 13, 43]\n",
      "[0, 18, 47]\n"
     ]
    }
   ],
   "source": [
    "clean_mois = []\n",
    "for m in mois:\n",
    "    m = m.reset_index()\n",
    "    m.columns = ['date','valeur','nature_operation','debit','credit']\n",
    "    clean_mois.append(clean_table(m))"
   ]
  },
  {
   "cell_type": "code",
   "execution_count": 17,
   "metadata": {},
   "outputs": [],
   "source": [
    "data = pd.concat(clean_mois)"
   ]
  },
  {
   "cell_type": "code",
   "execution_count": 18,
   "metadata": {},
   "outputs": [
    {
     "data": {
      "text/html": [
       "<div>\n",
       "<style scoped>\n",
       "    .dataframe tbody tr th:only-of-type {\n",
       "        vertical-align: middle;\n",
       "    }\n",
       "\n",
       "    .dataframe tbody tr th {\n",
       "        vertical-align: top;\n",
       "    }\n",
       "\n",
       "    .dataframe thead th {\n",
       "        text-align: right;\n",
       "    }\n",
       "</style>\n",
       "<table border=\"1\" class=\"dataframe\">\n",
       "  <thead>\n",
       "    <tr style=\"text-align: right;\">\n",
       "      <th></th>\n",
       "      <th>date</th>\n",
       "      <th>valeur</th>\n",
       "      <th>nature_operation</th>\n",
       "      <th>debit</th>\n",
       "      <th>credit</th>\n",
       "    </tr>\n",
       "  </thead>\n",
       "  <tbody>\n",
       "    <tr>\n",
       "      <th>1</th>\n",
       "      <td>09/11/2020</td>\n",
       "      <td>09/11/2020</td>\n",
       "      <td>CARTE X9328 REMBT 08/11 SNCF INTERNET COMMERCE...</td>\n",
       "      <td>NaN</td>\n",
       "      <td>22,00</td>\n",
       "    </tr>\n",
       "    <tr>\n",
       "      <th>2</th>\n",
       "      <td>12/11/2020</td>\n",
       "      <td>12/11/2020</td>\n",
       "      <td>CARTE X9328 04/11 FNAC.COM COMMERCE ELECTRONIQUE</td>\n",
       "      <td>349,00</td>\n",
       "      <td>NaN</td>\n",
       "    </tr>\n",
       "    <tr>\n",
       "      <th>3</th>\n",
       "      <td>12/11/2020</td>\n",
       "      <td>12/11/2020</td>\n",
       "      <td>CARTE X9328 10/11 VELIB METROPOLE COMMERCE ELE...</td>\n",
       "      <td>7,10</td>\n",
       "      <td>NaN</td>\n",
       "    </tr>\n",
       "    <tr>\n",
       "      <th>4</th>\n",
       "      <td>12/11/2020</td>\n",
       "      <td>12/11/2020</td>\n",
       "      <td>PRELEVEMENT EUROPEEN 4306384889 DE: ELECTRICIT...</td>\n",
       "      <td>68,00</td>\n",
       "      <td>NaN</td>\n",
       "    </tr>\n",
       "    <tr>\n",
       "      <th>5</th>\n",
       "      <td>12/11/2020</td>\n",
       "      <td>12/11/2020</td>\n",
       "      <td>000001 VIR EUROPEEN EMIS LOGITEL POUR: Barthel...</td>\n",
       "      <td>820,00</td>\n",
       "      <td>NaN</td>\n",
       "    </tr>\n",
       "    <tr>\n",
       "      <th>...</th>\n",
       "      <td>...</td>\n",
       "      <td>...</td>\n",
       "      <td>...</td>\n",
       "      <td>...</td>\n",
       "      <td>...</td>\n",
       "    </tr>\n",
       "    <tr>\n",
       "      <th>66</th>\n",
       "      <td>05/05/2021</td>\n",
       "      <td>05/05/2021</td>\n",
       "      <td>PRELEVEMENT EUROPEEN 3424600221 DE: Imagine R ...</td>\n",
       "      <td>38,00</td>\n",
       "      <td>NaN</td>\n",
       "    </tr>\n",
       "    <tr>\n",
       "      <th>67</th>\n",
       "      <td>06/05/2021</td>\n",
       "      <td>06/05/2021</td>\n",
       "      <td>CARTE X5466 05/05 B &amp; ET FILLES</td>\n",
       "      <td>7,90</td>\n",
       "      <td>NaN</td>\n",
       "    </tr>\n",
       "    <tr>\n",
       "      <th>68</th>\n",
       "      <td>06/05/2021</td>\n",
       "      <td>06/05/2021</td>\n",
       "      <td>PRELEVEMENT EUROPEEN 3517375520 DE: Free Telec...</td>\n",
       "      <td>14,99</td>\n",
       "      <td>NaN</td>\n",
       "    </tr>\n",
       "    <tr>\n",
       "      <th>69</th>\n",
       "      <td>07/05/2021</td>\n",
       "      <td>07/05/2021</td>\n",
       "      <td>CARTE X5466 REMBT 06/05 SNCF INTERNET COMMERCE...</td>\n",
       "      <td>NaN</td>\n",
       "      <td>45,00</td>\n",
       "    </tr>\n",
       "    <tr>\n",
       "      <th>70</th>\n",
       "      <td>07/05/2021</td>\n",
       "      <td>07/05/2021</td>\n",
       "      <td>CARTE X5466 06/05 CARREFOUR CITY</td>\n",
       "      <td>7,68</td>\n",
       "      <td>NaN</td>\n",
       "    </tr>\n",
       "  </tbody>\n",
       "</table>\n",
       "<p>300 rows × 5 columns</p>\n",
       "</div>"
      ],
      "text/plain": [
       "           date       valeur  \\\n",
       "1   09/11/2020   09/11/2020    \n",
       "2   12/11/2020   12/11/2020    \n",
       "3   12/11/2020   12/11/2020    \n",
       "4   12/11/2020   12/11/2020    \n",
       "5   12/11/2020   12/11/2020    \n",
       "..          ...          ...   \n",
       "66  05/05/2021   05/05/2021    \n",
       "67  06/05/2021   06/05/2021    \n",
       "68  06/05/2021   06/05/2021    \n",
       "69  07/05/2021   07/05/2021    \n",
       "70  07/05/2021   07/05/2021    \n",
       "\n",
       "                                     nature_operation    debit  credit  \n",
       "1   CARTE X9328 REMBT 08/11 SNCF INTERNET COMMERCE...      NaN  22,00   \n",
       "2   CARTE X9328 04/11 FNAC.COM COMMERCE ELECTRONIQUE   349,00      NaN  \n",
       "3   CARTE X9328 10/11 VELIB METROPOLE COMMERCE ELE...    7,10      NaN  \n",
       "4   PRELEVEMENT EUROPEEN 4306384889 DE: ELECTRICIT...   68,00      NaN  \n",
       "5   000001 VIR EUROPEEN EMIS LOGITEL POUR: Barthel...  820,00      NaN  \n",
       "..                                                ...      ...     ...  \n",
       "66  PRELEVEMENT EUROPEEN 3424600221 DE: Imagine R ...   38,00      NaN  \n",
       "67                   CARTE X5466 05/05 B & ET FILLES     7,90      NaN  \n",
       "68  PRELEVEMENT EUROPEEN 3517375520 DE: Free Telec...   14,99      NaN  \n",
       "69  CARTE X5466 REMBT 06/05 SNCF INTERNET COMMERCE...      NaN  45,00   \n",
       "70                  CARTE X5466 06/05 CARREFOUR CITY     7,68      NaN  \n",
       "\n",
       "[300 rows x 5 columns]"
      ]
     },
     "execution_count": 18,
     "metadata": {},
     "output_type": "execute_result"
    }
   ],
   "source": [
    "data"
   ]
  },
  {
   "cell_type": "code",
   "execution_count": 19,
   "metadata": {},
   "outputs": [],
   "source": [
    "data.fillna('0,0', inplace = True)"
   ]
  },
  {
   "cell_type": "code",
   "execution_count": 21,
   "metadata": {},
   "outputs": [],
   "source": [
    "data = data.reset_index()\n",
    "data.drop('index', axis = 1, inplace = True)"
   ]
  },
  {
   "cell_type": "code",
   "execution_count": 22,
   "metadata": {},
   "outputs": [],
   "source": [
    "data.to_csv('clean_data.csv')"
   ]
  },
  {
   "cell_type": "code",
   "execution_count": 23,
   "metadata": {},
   "outputs": [
    {
     "data": {
      "text/plain": [
       "array(['CARTE X9328 REMBT 08/11 SNCF INTERNET COMMERCE ELECTRONIQUE ',\n",
       "       'CARTE X9328 04/11 FNAC.COM COMMERCE ELECTRONIQUE ',\n",
       "       'CARTE X9328 10/11 VELIB METROPOLE COMMERCE ELECTRONIQUE ',\n",
       "       'PRELEVEMENT EUROPEEN 4306384889 DE: ELECTRICITE DE FRANCE ID: FR47EDF001007 MOTIF: Numero de client : 6018532526 - Num ero de compte : XXX 004035321214 REF: Z029678097737 11405 1 SIMM 114 MANDAT MM9760185325260001 ',\n",
       "       '000001 VIR EUROPEEN EMIS LOGITEL POUR: Barthelemy Francois 12 11 BQ 3005600030 CPT 00300025260 REF: 9031749563377 MOTIF: Loyer novembre CHEZ: CCFRFRPP ',\n",
       "       'REMISE CHEQUE 0000027 318 DE 1 CHQ 01001 0000027 ',\n",
       "       'CARTE X9328 12/11 LE MOULIN DES BL ',\n",
       "       'CARTE X9328 14/11 SM CASINO CS501 ',\n",
       "       'COTISATION JAZZ-25 ANS -50% ',\n",
       "       'CARTE X9328 18/11 Spotify P1232A1DCF EUR SUEDE ',\n",
       "       'CARTE X9328 23/11 IGN VADS COMMERCE ELECTRONIQUE ',\n",
       "       'VIR RECU 9033153899141 DE: M. VICTOR BOSSARD ',\n",
       "       'CARTE X9328 26/11 CARREFOUR MARKET ',\n",
       "       'CARTE X9328 26/11 LIDL 3765 ',\n",
       "       'CARTE X9328 28/11 SNCF INTERNET COMMERCE ELECTRONIQUE ',\n",
       "       'PRELEVEMENT EUROPEEN 5804175013 DE: PRETSOGEFINANC.EXPRESSO-SOGEFINANO EMENT ID: FR94ZZZ409792 MOTIF: MENSUALITE PRET ETUDIANT 3819561133 0 301120 SOGEFINANCEMENT 674959230 039381956113301001 FR94ZZZ409792 REF: 674959230 MANDAT 039381956113301001 *** SOLDE AU 30/11/2020 + 469,79 *** ',\n",
       "       \"CARTE X9328 01/12 MEDIUM MONTHLY 5,00 USD ETATS-UNIS D'AME 1 EUR=1,1933 USD COMMERCE ELECTRONIQUE \",\n",
       "       'CARTE X9328 02/12 SNCF INTERNET COMMERCE ELECTRONIQUE ',\n",
       "       'CARTE X9328 02/12 TOTAL ',\n",
       "       'VIR RECU 6496661870S DE: CAF DE PARIS MOTIF: XPXREFERENCE 036830850 ME 0701761XBOSSARD 112020ME REF: 036830850V16 ',\n",
       "       'FRAIS PAIEMENT HORS ZONE EURO CARTE X9328 01/12 5,00 USD U.S.A ',\n",
       "       'CARTE X9328 05/12 FNAC ', 'CARTE X9328 05/12 GL GRENOBLE ',\n",
       "       'PRELEVEMENT EUROPEEN 6529778982 DE: Imagine R - GIE COMUTITRES ID: FR42ZZZ457385 MOTIF: Abonnement imagine R REF: 3/20215253301784/595962664 MANDAT FR42ZZZ4573852021525330178402005. ',\n",
       "       'VIR RECU 9034358558820 DE: M. VICTOR BOSSARD MOTIF: Loyer ',\n",
       "       'CARTE X9328 07/12 FEU VERT 326 ',\n",
       "       'CARTE X9328 10/12 VELIB METROPOLE COMMERCE ELECTRONIQUE ',\n",
       "       'CARTE X9328 10/12 AMAZON PAYMENTS COMMERCE ELECTRONIQUE ',\n",
       "       'CARTE X9328 11/12 DECATHLON 0023 ',\n",
       "       'PRELEVEMENT EUROPEEN 7203720139 DE: ELECTRICITE DE FRANCE ID: FR47EDF001007 MOTIF: Numero de client : 6018532526 - Num ero de compte : XXX 004035321214 REF: Z018617401612 11405 1 SIMM 114 MANDAT MM9760185325260001 ',\n",
       "       'CARTE X9328 15/12 ESSO VAL EYBENS ',\n",
       "       'COTISATION JAZZ-25 ANS -50% ', 'CARTE X9328 16/12 GEANT CG805 ',\n",
       "       'CHEQUE 115 ', 'CHEQUE 119 ',\n",
       "       'VIR RECU 9035362208182 DE: M. VICTOR BOSSARD MOTIF: noel + loyer + remb parents ',\n",
       "       'CARTE X9328 15/12 AREA CHATUZANGE BARRIERE ',\n",
       "       'CARTE X9328 15/12 ASF ARLES ',\n",
       "       'CARTE X9328 18/12 Spotify France COMMERCE ELECTRONIQUE ',\n",
       "       'CARTE X9328 18/12 LACOMPAGNIEDESCARTES COMMERCE ELECTRONIQUE ',\n",
       "       'CARTE X9328 19/12 ATOME ', 'CARTE X9328 20/12 ASF BAILLARGUES ',\n",
       "       '000001 VIR EUROPEEN EMIS LOGITEL POUR: Barthelemy Francois 21 12 BQ 3005600030 CPT 00300025260 REF: 9035662452964 MOTIF: Loyer decembre retard CHEZ: CCFRFRPP ',\n",
       "       '000001 VIR EUROPEEN EMIS LOGITEL POUR: MR OU MME BOSSARD 21 12 SG 00104 CPT 00050756973 REF: 9035662453544 MOTIF: Avance parents CHEZ: SOGEFRPP ',\n",
       "       'CARTE X9328 21/12 TOTAL ', 'CHEQUE 131 ',\n",
       "       'VIR RECU 9036364617721 DE: MR OU MME BOSSARD MOTIF: Noel JS ',\n",
       "       'VIR RECU 9036364618590 DE: MR OU MME BOSSARD MOTIF: Noel lengereau ',\n",
       "       'VIR RECU 9036364619626 DE: MR OU MME BOSSARD MOTIF: Noel JS pour AM ',\n",
       "       'CARTE X9328 25/12 ASF VALENCE-S ',\n",
       "       'CARTE X9328 25/12 CARREFOUR DAC VL ',\n",
       "       'CARTE X9328 25/12 AREA VOREPPE BARRIERE ',\n",
       "       'PRELEVEMENT EUROPEEN 9002021594 DE: PRET SOGEFINANC.EXPRESSO-SOGEFINANO EMENT ID: FR94ZZZ409792 MOTIF: MENSUALITE PRET ETUDIANT 3819561133 0 301220 SOGEFINANCEMENT 676393886 039381956113301001 FR94ZZZ409792 REF: 676393886 MANDAT 039381956113301001 ',\n",
       "       'VIR RECU 9036666538298 DE: M. VICTOR BOSSARD MOTIF: Loyer ',\n",
       "       'CARTE X5466 RETRAIT DAB SG 30/12 15H41 EYBENS 00912560 ',\n",
       "       'CARTE X5466 RETRAIT DAB SG 03/01 17H55 GRENOBLE VICTOR HUGO 00908040 ',\n",
       "       'CARTE X5466 RETRAIT DAB SG 03/01 17H55 GRENOBLE VICTOR HUGO 00908040 ',\n",
       "       'CARTE X5466 31/12 A.R.E.A. ', 'CARTE X5466 31/12 APRECIAL ',\n",
       "       'CARTE X5466 31/12 INTERMARCHE DAC ',\n",
       "       'CARTE X5466 31/12 INTERMARCHE ', 'CARTE X5466 01/01 BURGER KING ',\n",
       "       'CARTE X5466 02/01 ASF VIENNE ',\n",
       "       'CARTE X5466 02/01 LE PETIT CASINO ',\n",
       "       '000001 VIR EUROPEEN EMIS LOGITEL POUR: Barthelemy Francois 04 01 BQ 3005600030 CPT 00300025260 REF: 9100467430468 MOTIF: Loyer janvier CHEZ: CCFRFRPP ',\n",
       "       'VIR RECU 0483833965S DE: CAF DE PARIS MOTIF: XPXREFERENCE 037307081 ME 0701761XBOSSARD 122020ME REF: 037307081V16 ',\n",
       "       'CARTE X5466 03/01 AREA VOREPPE BARRIERE ',\n",
       "       'CARTE X5466 04/01 SNCF INTERNET COMMERCE ELECTRONIQUE ',\n",
       "       'PRELEVEMENT EUROPEEN 0505930776 DE: Imagine R - GIE COMUTITRES ID: FR42ZZZ457385 MOTIF: Abonnement imagine R REF:3/20215253301784/599571034 MANDAT FR42ZZZ45738520215253301784020051 ',\n",
       "       'CARTE X5466 06/01 SNCF INTERNET COMMERCE ELECTRONIQUE ',\n",
       "       'CARTE X5466 06/01 DR MALANDRINO ',\n",
       "       \"VIR RECU 1183874318S DE: C.P.A.M. DE L'ISERE MOTIF: 210080006945210080006945 REF: 210080006945 \",\n",
       "       'VIR RECU 9101170197521 DE: M. VICTOR BOSSARD MOTIF: we ski ',\n",
       "       'CARTE X5466 09/01 SNCF INTERNET COMMERCE ELECTRONIQUE ',\n",
       "       'CARTE X5466 10/01 VELIB METROPOLE COMMERCE ELECTRONIQUE ',\n",
       "       'CARTE X5466 10/01 CARREFOUR CITY ',\n",
       "       'PRELEVEMENT EUROPEEN 0813366446 DE: ELECTRICITE DE FRANCE ID: FR47EDF001007 MOTIF: Numero de client : 6018532526 - Num ero de compte : XXX 004035321214 REF: Z025345353954 11405 1 SIMM 114 MANDAT MM9760185325260001 ',\n",
       "       'CARTE X5466 12/01 CARREFOUR CITY ',\n",
       "       'CARTE X5466 12/01 CARREFOUR CITY ', 'CARTE X5466 13/01 MONOPRIX ',\n",
       "       'VIR RECU 1585440042S DE: CEP CENTRALE ENCAISSEMENT ET PAIEMENT TRESORERIE SANTE MOTIF: )VIREM.AG2R P96DWSUMQ AG2R REF: )VIREM.AG2R P96DWSUMQ AG2R ID: 801947052 ',\n",
       "       'CARTE X5466 14/01 SC-BOULANG MAIR ',\n",
       "       'CARTE X5466 14/01 SF-COMMERCE ',\n",
       "       'CARTE X5466 15/01 CARREFOUR CITY ',\n",
       "       'CARTE X5466 17/01 SNCF INTERNET COMMERCE ELECTRONIQUE ',\n",
       "       'CARTE X5466 RETRAIT DAB 17/01 09H05 CA DES SAVOIE 08993784 ',\n",
       "       'COTISATION JAZZ -25 ANS -50% ',\n",
       "       'CARTE X5466 18/01 BOUL. LA SOURCE ',\n",
       "       'CARTE X5466 18/01 UEP*SUPER U ',\n",
       "       'CARTE X5466 18/01 Lydia*Pull de promo COMMERCE ELECTRONIQUE ',\n",
       "       'CARTE X5466 19/01 FAVRE SPORTS ',\n",
       "       'CARTE X5466 19/01 FROMAGE CHARCUTERIE ',\n",
       "       'CARTE X5466 20/01 FRANPRIX ',\n",
       "       'CARTE X5466 22/01 PARADIS DU FRUI ',\n",
       "       'CARTE X5466 23/01 Spotify P1322B3E50 4,99 EUR SUEDE COMMERCE ELECTRONIQUE ',\n",
       "       'CARTE X5466 23/01 SC-BOUL KAYSER ',\n",
       "       'CARTE X5466 24/01 PRET A MANGER OPERA ',\n",
       "       'CARTE X5466 24/01 DECATHLON ',\n",
       "       'VIR RECU 2686543926S DE: CEP CENTRALE ENCAISSEMENT ET PAIEMENT TRESORERIE SANTE MOTIF: )VIREM.AG2R P96DWYSBX AG2R REF: )VIREM.AG2R P96DWYSBX AG2R ID: 801947052 ',\n",
       "       'CARTE X5466 25/01 LA POSTE 755170 ',\n",
       "       'CARTE X5466 25/01 NOURA M SANS CT ',\n",
       "       'CARTE X5466 25/01 Lydia*Kami Benkirane COMMERCE ELECTRONIQUE ',\n",
       "       'CARTE X5466 25/01 NOURA M SANS CT ',\n",
       "       'CARTE X5466 26/01 UBER *TRIP COMMERCE ELECTRONIQUE ',\n",
       "       'CARTE X5466 26/01 FRANPRIX ',\n",
       "       'CARTE X5466 26/01 AUCHAN SUPER MA ',\n",
       "       'CARTE X5466 28/01 FRANPRIX MARBEU ',\n",
       "       'CARTE X5466 28/01 FRANPRIX MARBEU ',\n",
       "       'VIR RECU 9103276728727 DE: MR OU MME BOSSARD MOTIF: Anniv MA ',\n",
       "       'CARTE X5466 29/01 LYDIA APP COMMERCE ELECTRONIQUE ',\n",
       "       'CARTE X5466 30/01 LA GRIOTTE ',\n",
       "       'CARTE X5466 30/01 UBER *TRIP COMMERCE ELECTRONIQUE ',\n",
       "       'CARTE X5466 30/01 A.O. SHOP ', 'CARTE X5466 30/01 FRANPRIX ',\n",
       "       'CARTE X5466 31/01 UBER *TRIP COMMERCE ELECTRONIQUE ',\n",
       "       'CARTE X5466 31/01 MANHATTAN TERAZ ',\n",
       "       'CARTE X5466 31/01 FRANPRIX ',\n",
       "       'PRELEVEMENT EUROPEEN 2906459774 DE: PRET SOGEFINANC.EXPRESSO-SOGEFINANO EMENT ID: FR94ZZZ409792 MOTIF: MENSUALITE PRET ETUDIANT 3819561133 0 300121 SOGEFINANCEMENT 678109345 039381956113301001 FR94ZZZ409792 REF: 678109345 MANDAT 039381956113301001 ',\n",
       "       'CARTE X5466 03/02 FRANPRIX MARBEU ',\n",
       "       'VIR RECU 3595412286S DE: CAF DE PARIS MOTIF: XPXREFERENCE 037715545 ME 0701761XBOSSARD 012021ME REF: 037715545V16 ',\n",
       "       'PRELEVEMENT EUROPEEN 3527116006 DE: Imagine R - GIE COMUTITRES ID: FR42ZZZ457385 MOTIF: Abonnement imagine R REF: 3/20215253301784/603903716 MANDAT FR42ZZZ45738520215253301784020051 ',\n",
       "       'CARTE X5466 05/02 FRANPRIX MARBEU ',\n",
       "       'CARTE X5466 06/02 DUBOIS FROMAGER ',\n",
       "       'CARTE X5466 06/02 FRANPRIX ',\n",
       "       'CARTE X5466 10/02 VELIB METROPOLE COMMERCE ELECTRONIQUE ',\n",
       "       'CARTE X5466 10/02 CARREFOUR CITY ',\n",
       "       'PRELEVEMENT EUROPEEN 4100241713 DE: ELECTRICITE DE FRANCE ID: FR47EDF001007 MOTIF: Numero de client : 6018532526 - Num ero de compte : XXX 004035321214 REF: Z012751627943 11405 1 SIMM 114 MANDAT MM9760185325260001 ',\n",
       "       'CARTE X5466 12/02 RELAIS EXPRESS ',\n",
       "       'CARTE X5466 12/02 UBER * EATS PENDING COMMERCE ELECTRONIQUE ',\n",
       "       'CARTE X5466 12/02 CARREFOUR CITY ',\n",
       "       'CARTE X5466 13/02 NICOLAS 2181 ',\n",
       "       'CARTE X5466 13/02 UBER *TRIP COMMERCE ELECTRONIQUE ',\n",
       "       'CARTE X5466 13/02 FRANPRIX ',\n",
       "       'CARTE X5466 13/02 UBER *TRIP COMMERCE ELECTRONIQUE ',\n",
       "       'CARTE X5466 14/02 CARREFOUR CITY ',\n",
       "       'CARTE X5466 14/02 SPORT TICKETING COMMERCE ELECTRONIQUE ',\n",
       "       'CARTE X5466 15/02 FRANPRIX SD ',\n",
       "       'CARTE X5466 15/02 BOULANGERIE COMM ',\n",
       "       'COTISATION JAZZ - -25 ANS -50% ',\n",
       "       'VIR RECU 9104983121360 DE: M. VICTOR BOSSARD MOTIF: Loyer ',\n",
       "       'CARTE X5466 18/02 CARREFOUR CITY ',\n",
       "       'CARTE X5466 18/02 Spotify P137CF791E 4,99 EUR SUEDE COMMERCE ELECTRONIQUE ',\n",
       "       'CARTE X5466 18/02 GOURMANDISES ',\n",
       "       'CARTE X5466 18/02 RELAIS EXPRESS ',\n",
       "       'CARTE X5466 19/02 UBER * EATS PENDING COMMERCE ELECTRONIQUE ',\n",
       "       'CARTE X5466 20/02 CARREFOUR CITY ',\n",
       "       'CARTE X5466 20/02 FRANPRIX SD ',\n",
       "       'CARTE X5466 20/02 UBER *TRIP COMMERCE ELECTRONIQUE ',\n",
       "       'CARTE X5466 22/02 BOULANGERIE MEU ', 'CARTE X5466 23/02 LIBERTE ',\n",
       "       'CARTE X5466 23/02 FRANPRIX NOE4120 ',\n",
       "       'VIR RECU 5791777330S DE: M OU MME FRANCOIS MELIN MOTIF: CAUTION A.MELIN REF: VH10571BJ7BGAL01 ',\n",
       "       'VIR RECU 9105785563088 DE: M. VICTOR BOSSARD MOTIF: 1 loyer Caution ',\n",
       "       'CARTE X5466 25/02 Lydia*Vincent Marty COMMERCE ELECTRONIQUE ',\n",
       "       'CARTE X5466 25/02 SNCF INTERNET COMMERCE ELECTRONIQUE ',\n",
       "       'CARTE X5466 25/02 ALTIBUS.COM COMMERCE ELECTRONIQUE ',\n",
       "       'CARTE X5466 25/02 INTERASSURAN C+ COMMERCE ELECTRONIQUE ',\n",
       "       'VIR RECU 9106086472653 DE: MR OU MME BOSSARD MOTIF: Anniversaire ',\n",
       "       'CARTE X5466 26/02 Lydia*Quentin Barascud COMMERCE ELECTRONIQUE ',\n",
       "       'CARTE X5466 27/02 MONOPRIX ', 'CARTE X5466 28/02 MONOPRIX ',\n",
       "       'CARTE X5466 28/02 UBER *TRIP COMMERCE ELECTRONIQUE ',\n",
       "       'CARTE X5466 28/02 Lydia*Eva Rumeau COMMERCE ELECTRONIQUE ',\n",
       "       'CARTE X5466 28/02 UBER *TRIP COMMERCE ELECTRONIQUE ',\n",
       "       'CARTE X5466 28/02 UBER * PENDING COMMERCE ELECTRONIQUE ',\n",
       "       'PRELEVEMENT EUROPEEN 5705363367 DE: PRET SOGEFINANC.EXPRESSO-SOGEFINANC EMENT ID: FR94ZZZ409792 MOTIF: MENSUALITE PRET ETUDIANT 3819561133 0 280221 SOGEFINANCEMENT 679321388 039381956113301001 FR94ZZZ409792 REF: 679321388 MANDAT 039381956113301001 ',\n",
       "       'VIR RECU 9106187228808 DE: M. ANTOINE MELIN ',\n",
       "       'CARTE X5466 01/03 BOULANGERIE MEU ',\n",
       "       'CARTE X5466 01/03 LES HAMEAUX ',\n",
       "       'CARTE X5466 02/03 SPORT 2000 BORASO ',\n",
       "       'VIR RECU 6486193501S DE: CAF DE PARIS MOTIF: XPXREFERENCE 038102040 ME 0701761XBOSSARD 022021ME REF: 038102040V16 ',\n",
       "       'VIR RECU 6496050351S DE: M FRANCOIS BARTHELEMY BARTHELEMY DE: M BARTHELEMY FRANCOIS REF: SOLDE TT COMPTE ID: 254012057 ',\n",
       "       'CARTE X5466 04/03 LDS SUPERMARCHE ',\n",
       "       'CARTE X5466 05/03 BOULANG.CLARINES ',\n",
       "       'CARTE X5466 05/03 PV SPORTS ', 'CARTE X5466 06/03 VDM ',\n",
       "       'CARTE X5466 07/03 SNCF INTERNET COMMERCE ELECTRONIQUE ',\n",
       "       'PRELEVEMENT EUROPEEN 6409947173 DE: Imagine R - GIE COMUTITRES ID: FR42ZZZ457385 MOTIF: Abonnement imagine R REF: 3/20215253301784/606418769 MANDAT FR42ZZZ45738520215253301784020051 ',\n",
       "       'CHEQUE 133 ', 'CHEQUE 134 ', 'CHEQUE 135 ',\n",
       "       'CARTE X5466 09/03 G 20 ',\n",
       "       '000001 VIR EUROPEEN EMIS LOGITEL POUR: Francois Fihey 10 03 BQ 3000400031 CPT 00001088836 REF: 9106990483192 MOTIF: Acompte we ronge CHEZ: BNPAFRPP ',\n",
       "       'CARTE X5466 10/03 VELIB METROPOLE COMMERCE ELECTRONIQUE ',\n",
       "       'CARTE X5466 10/03 PICARD SA ', 'CARTE X5466 11/03 MAISON LEPARQ ',\n",
       "       'VIR RECU 9107491653589 DE: M. VICTOR BOSSARD MOTIF: Remb Antoine ',\n",
       "       'CARTE X5466 12/03 MERCI JEROME ',\n",
       "       'CARTE X5466 14/03 NOURA M SANS CT ',\n",
       "       'PRELEVEMENT EUROPEEN 7102881366 DE: ELECTRICITE DE FRANCE ID: FR47EDF001007 MOTIF: Numero de client : 6018532526 Num ero de compte : XXX 004035321214 REF: Z023416826882 11405 1 SIMM 114 MANDAT MM9760185325260001 ',\n",
       "       'CARTE X5466 15/03 LA POSTE L756270 ',\n",
       "       'CARTE X5466 15/03 G20 SUPER DOM ',\n",
       "       '000001 VIR EUROPEEN EMIS LOGITEL POUR: Antoine Melin 16 03 SG 01413 CPT 00056212534 REF: 9107591952825 MOTIF: Remboursement CHEZ: SOGEFRPP ',\n",
       "       'COTISATION JAZZ -25 ANS -50% ',\n",
       "       'CARTE X5466 15/03 SIMPLY MARKET DUPLE ',\n",
       "       'CARTE X5466 16/03 FG C ELYSEES SC ',\n",
       "       'CARTE X5466 16/03 PHARMACIE DE LA ', 'CARTE X5466 18/03 G 20 ',\n",
       "       'CARTE X5466 18/03 CASTORAMA ', 'CARTE X5466 18/03 MAISON LEPARQ ',\n",
       "       'CARTE X5466 18/03 FROMAGERIE LAUR ',\n",
       "       'CARTE X5466 18/03 Spotify France COMMERCE ELECTRONIQUE ',\n",
       "       'CARTE X5466 19/03 PICARD SA ',\n",
       "       'CARTE X5466 20/03 A2PAS DISTRI SC ',\n",
       "       'VIR RECU 9108394240301 DE: M. VICTOR BOSSARD MOTIF: Loyer avril + vie ',\n",
       "       'CARTE X5466 23/03 EB *FORMATION A LANIMA 15,00 EUR IRLANDE COMMERCE ELECTRONIQUE ',\n",
       "       'CARTE X5466 23/03 SNCF INTERNET COMMERCE ELECTRONIQUE ',\n",
       "       'VIR RECU 8387790864S DE: DE CHABALIER VICTOIRE ',\n",
       "       'CARTE X5466 24/03 G 20 ', 'CARTE X5466 24/03 CASTORAMA ',\n",
       "       'CARTE X5466 24/03 PICARD SA ', 'CARTE X5466 27/03 G 20 ',\n",
       "       'CARTE X5466 27/03 G 20 ', 'CARTE X5466 27/03 SC-GAMES INBLUE ',\n",
       "       'CARTE X5466 28/03 UberEats COMMERCE ELECTRONIQUE ',\n",
       "       'CARTE X5466 29/03 FRANPRIX NOE4120 ',\n",
       "       'PRELEVEMENT EUROPEEN 8803227030 DE: PRET SOGEFINANC.EXPRESSO-SOGEFINANC EMENT ID: FR94ZZZ409792 MOTIF: MENSUALITE PRET ETUDIANT 3819561133 0 300321 SOGEFINANCEMENT 680803006 039381956113301001 FR94ZZZ409792 REF: 680803006 MANDAT 039381956113301001 *** SOLDE AU 31/03/2021 + 838,14 *** ',\n",
       "       'CARTE X5466 31/03 MAISON LEPARQ ', 'CARTE X5466 31/03 POILANE ',\n",
       "       'CARTE X5466 31/03 FRANPRIX 5408 ',\n",
       "       'CARTE X5466 01/04 SNCF INTERNET COMMERCE ELECTRONIQUE ',\n",
       "       'VIR INST REC 159577914515 DE: STE FINANCIERE DU PORTE MONNAIE ELECTR O INTERBANCAIRE DATE: 05/04/2021 17:59 REF: 30821f96c530a85ce6e731ee51ff56be ',\n",
       "       'VIR RECU 0697001887S DE: ELECTRICITE DE FRANCE MOTIF: )019879785655 11405 1 EDF VRS REM BOURSEMENT COMPTE CREDITEUR REF: )019879785655 11405 1 EDF VRS ',\n",
       "       'CARTE X5466 REMBT 04/04 SNCF INTERNET COMMERCE ELECTRONIQUE ',\n",
       "       'CARTE X5466 02/04 FRANPRIX NOE4120 ',\n",
       "       'CARTE X5466 03/04 AUCHAN SUPER MA ',\n",
       "       'CARTE X5466 03/04 SNCF INTERNET COMMERCE ELECTRONIQUE ',\n",
       "       'CARTE X5466 05/04 BURGER KING ',\n",
       "       'CARTE X5466 05/04 AUCHAN SUPER MA ', 'CARTE X5466 06/04 LECLERC ',\n",
       "       'CARTE X5466 07/04 LECLERC ',\n",
       "       'PRELEVEMENT EUROPEEN 0703507095 DE: Imagine R GIE COMUTITRES ID: FR42ZZZ457385 MOTIF: Abonnement imagine R REF: 3/20215253301784/611500136 MANDAT FR42ZZZ45738520215253301784020051 ',\n",
       "       'CARTE X5466 08/04 PETIT CASINO ',\n",
       "       'CARTE X5466 08/04 SNCF INTERNET COMMERCE ELECTRONIQUE ',\n",
       "       'PRELEVEMENT EUROPEEN 0718965169 DE: Free Telecom ID: FR83ZZZ459654 MOTIF: Free HautDebit 1024161157 REF: FHD 1024161157 MANDAT 38619385 ',\n",
       "       'CARTE X5466 09/04 SNCF INTERNET COMMERCE ELECTRONIQUE ',\n",
       "       'CARTE X5466 10/04 VELIB METROPOLE COMMERCE ELECTRONIQUE ',\n",
       "       'CARTE X5466 10/04 CARREFOUR CITY ',\n",
       "       'CARTE X5466 10/04 PHARMACIE ST AG ',\n",
       "       'CARTE X5466 11/04 Lydia*Jean De Bodinat COMMERCE ELECTRONIQUE ',\n",
       "       'CARTE X5466 12/04 TISSEO-REGIE AUT ',\n",
       "       'CARTE X5466 13/04 LE PETIT CASINO ',\n",
       "       'CARTE X5466 13/04 SNCF INTERNET COMMERCE ELECTRONIQUE ',\n",
       "       'CARTE X5466 12/04 VELO TOULOUSE ',\n",
       "       'CARTE X5466 14/04 TAM GARE SUD FRANCE ',\n",
       "       'CARTE X5466 14/04 RELAY 341743SC ',\n",
       "       'CARTE X5466 14/04 SUZANNE YEUX BLEUS ',\n",
       "       'COTISATION JAZZ -25 ANS -50% ',\n",
       "       'CARTE X5466 14/04 VELO TOULOUSE ',\n",
       "       'CARTE X5466 17/04 Lydia*Emeline Fasolato COMMERCE ELECTRONIQUE ',\n",
       "       'CARTE X5466 18/04 Spotify France COMMERCE ELECTRONIQUE ',\n",
       "       'CARTE X5466 18/04 SNCF INTERNET COMMERCE ELECTRONIQUE ',\n",
       "       'CARTE X5466 REMBT 19/04 Lydia*Jear De Bo COMMERCE ELECTRONIQUE ',\n",
       "       'VIR RECU 9111005698166 DE: M. VICTOR BOSSARD MOTIF: Loyer ',\n",
       "       'CARTE X5466 19/04 TAM CT 8403206 ',\n",
       "       'PRELEVEMENT EUROPEEN 1908848870 DE: CABINET D ACHER SARL ID: FR61ZZZ429398 MOTIF: PRELEVEMENT DU 16/04/2021 REF: 2524241100069699-0001-20210416RCUR MANDAT 202103304113714200102000747 ',\n",
       "       'CARTE X5466 20/04 FRANPRIX 5408 ', 'CARTE X5466 20/04 PICARD SA ',\n",
       "       'CARTE X5466 20/04 PICARD SA ', 'CARTE X5466 20/04 G 20 ',\n",
       "       'CARTE X5466 RETRAIT DAB 20/04 11H40 GRENELLE EXT. 7002GCUW ',\n",
       "       'CARTE X5466 08/04 URBAN ',\n",
       "       'CARTE X5466 21/04 DECATHLON FRANCE ECOMMER COMMERCE ELECTRONIQUE ',\n",
       "       'CARTE X5466 21/04 FRANPRIX 5408 ',\n",
       "       'CARTE X5466 22/04 FRANPRIX 6106 ',\n",
       "       'CARTE X5466 REMBT 23/04 DECATHLON ',\n",
       "       'CARTE X5466 23/04 Lydia*Elisa Muller COMMERCE ELECTRONIQUE ',\n",
       "       'CARTE X5466 23/04 DECATHLON FRANCE ECOMMER COMMERCE ELECTRONIQUE ',\n",
       "       'CARTE X5466 24/04 Lydia*Agathe Ghiron COMMERCE ELECTRONIQUE ',\n",
       "       'CARTE X5466 24/04 G 20 ',\n",
       "       'CARTE X5466 24/04 KOL-APP COMMERCE ELECTRONIQUE ',\n",
       "       'CARTE X5466 25/04 FRANPRIX NOE4120 ',\n",
       "       'CARTE X5466 27/04 MONOPRIX ', 'CARTE X5466 28/04 CARREFOUR CITY ',\n",
       "       'PRELEVEMENT EUROPEEN 2905823324 DE: PRET SOGEFINANC.EXPRESSO-SOGEFINANO EMENT ID: FR94ZZZ409792 MOTIF: MENSUALITE PRET ETUDIANT 3819561133 0 300421 SOGEFINANCEMENT 682243840 039381956113301001 FR94ZZZ409792 REF: 682243840 MANDAT 039381956113301001 ',\n",
       "       'CARTE X5466 REMBT 02/05 SNCF INTERNET COMMERCE ELECTRONIQUE ',\n",
       "       'VIR RECU 9112309956919 DE: M. VICTOR BOSSARD MOTIF: Amende ',\n",
       "       'VIR RECU 9112310134748 DE: M. VICTOR BOSSARD MOTIF: A/R Paris ',\n",
       "       'VIR RECU 9112310247339 DE: M. VICTOR BOSSARD MOTIF: Billets pour annulation ',\n",
       "       'CARTE X5466 30/04 MONOPRIX ', 'CARTE X5466 30/04 G 20 ',\n",
       "       'CARTE X5466 30/04 MONOPRIX ',\n",
       "       'CARTE X5466 02/05 FNACMARKETPLACE COMMERCE ELECTRONIQUE ',\n",
       "       'CARTE X5466 02/05 WEB AMENDE.GOUV COMMERCE ELECTRONIQUE ',\n",
       "       'VIR RECU 9112410402744 DE: M. VICTOR BOSSARD MOTIF: Chaussures trail ',\n",
       "       'CARTE X5466 03/05 FNAC.COM COMMERCE ELECTRONIQUE ',\n",
       "       'CARTE X5466 03/05 FNAC.COM COMMERCE ELECTRONIQUE ',\n",
       "       'CARTE X5466 03/05 PICARD SA ',\n",
       "       'CARTE X5466 03/05 SNCF INTERNET COMMERCE ELECTRONIQUE ',\n",
       "       'CARTE X5466 03/05 SNCF INTERNET COMMERCE ELECTRONIQUE ',\n",
       "       'CARTE X5466 03/05 SNCF INTERNET COMMERCE ELECTRONIQUE ',\n",
       "       'CARTE X5466 03/05 SNCF INTERNET COMMERCE ELECTRONIQUE ',\n",
       "       'CARTE X5466 03/05 CRAZY RUNNERS ',\n",
       "       'VIR RECU 9112511294343 DE: M. VICTOR BOSSARD MOTIF: Loyer ',\n",
       "       'CARTE X5466 04/05 G 20 ',\n",
       "       'PRELEVEMENT EUROPEEN 3424600221 DE: Imagine R GIE COMUTITRES ID: FR42ZZZ457385 MOTIF: Abonnement imagine R REF: 3/20215253301784/613886893 MANDAT FR42ZZZ45738520215253301784020051 ',\n",
       "       'CARTE X5466 05/05 B & ET FILLES ',\n",
       "       'PRELEVEMENT EUROPEEN 3517375520 DE: Free Telecom ID: FR83ZZZ459654 MOTIF: Free HautDebit 1030852894 REF: FHD 1030852894 MANDAT 38619385 ',\n",
       "       'CARTE X5466 REMBT 06/05 SNCF INTERNET COMMERCE ELECTRONIQUE ',\n",
       "       'CARTE X5466 06/05 CARREFOUR CITY '], dtype=object)"
      ]
     },
     "execution_count": 23,
     "metadata": {},
     "output_type": "execute_result"
    }
   ],
   "source": [
    "data.nature_operation.values"
   ]
  },
  {
   "cell_type": "code",
   "execution_count": 24,
   "metadata": {},
   "outputs": [],
   "source": [
    "pd.set_option('display.max_rows', data.shape[0]+1)"
   ]
  },
  {
   "cell_type": "code",
   "execution_count": 25,
   "metadata": {},
   "outputs": [],
   "source": [
    "test = pd.to_datetime(data.date, dayfirst = True)"
   ]
  },
  {
   "cell_type": "code",
   "execution_count": 26,
   "metadata": {},
   "outputs": [],
   "source": [
    "data.date = pd.to_datetime(data.date, dayfirst = True)\n",
    "data.valeur = pd.to_datetime(data.valeur, dayfirst = True)"
   ]
  },
  {
   "cell_type": "code",
   "execution_count": 27,
   "metadata": {
    "scrolled": true
   },
   "outputs": [
    {
     "name": "stdout",
     "output_type": "stream",
     "text": [
      "<class 'pandas.core.frame.DataFrame'>\n",
      "RangeIndex: 300 entries, 0 to 299\n",
      "Data columns (total 5 columns):\n",
      " #   Column            Non-Null Count  Dtype         \n",
      "---  ------            --------------  -----         \n",
      " 0   date              300 non-null    datetime64[ns]\n",
      " 1   valeur            300 non-null    datetime64[ns]\n",
      " 2   nature_operation  300 non-null    object        \n",
      " 3   debit             300 non-null    object        \n",
      " 4   credit            300 non-null    object        \n",
      "dtypes: datetime64[ns](2), object(3)\n",
      "memory usage: 11.8+ KB\n"
     ]
    }
   ],
   "source": [
    "data.info()"
   ]
  },
  {
   "cell_type": "code",
   "execution_count": 31,
   "metadata": {},
   "outputs": [],
   "source": [
    "def clean_debit_credit(series):\n",
    "    clean = []\n",
    "    temp = series.apply(lambda x: x.replace(',','.')).str.split('.')\n",
    "    for d in temp:\n",
    "        clean.append(''.join(d[:-1]) + '.' + d[-1])\n",
    "    return clean"
   ]
  },
  {
   "cell_type": "code",
   "execution_count": 33,
   "metadata": {},
   "outputs": [],
   "source": [
    "data.debit = clean_debit_credit(data.debit)"
   ]
  },
  {
   "cell_type": "code",
   "execution_count": 34,
   "metadata": {},
   "outputs": [],
   "source": [
    "data.credit = clean_debit_credit(data.credit)"
   ]
  },
  {
   "cell_type": "code",
   "execution_count": 37,
   "metadata": {},
   "outputs": [],
   "source": [
    "data.debit = data.debit.astype('float32')\n",
    "data.credit = data.credit.astype('float32')"
   ]
  },
  {
   "cell_type": "code",
   "execution_count": 38,
   "metadata": {},
   "outputs": [
    {
     "name": "stdout",
     "output_type": "stream",
     "text": [
      "<class 'pandas.core.frame.DataFrame'>\n",
      "RangeIndex: 300 entries, 0 to 299\n",
      "Data columns (total 5 columns):\n",
      " #   Column            Non-Null Count  Dtype         \n",
      "---  ------            --------------  -----         \n",
      " 0   date              300 non-null    datetime64[ns]\n",
      " 1   valeur            300 non-null    datetime64[ns]\n",
      " 2   nature_operation  300 non-null    object        \n",
      " 3   debit             300 non-null    float32       \n",
      " 4   credit            300 non-null    float32       \n",
      "dtypes: datetime64[ns](2), float32(2), object(1)\n",
      "memory usage: 9.5+ KB\n"
     ]
    }
   ],
   "source": [
    "data.info()"
   ]
  },
  {
   "cell_type": "code",
   "execution_count": 39,
   "metadata": {},
   "outputs": [],
   "source": [
    "data.to_csv('final_data.csv')"
   ]
  }
 ],
 "metadata": {
  "kernelspec": {
   "display_name": "Python 3",
   "language": "python",
   "name": "python3"
  },
  "language_info": {
   "codemirror_mode": {
    "name": "ipython",
    "version": 3
   },
   "file_extension": ".py",
   "mimetype": "text/x-python",
   "name": "python",
   "nbconvert_exporter": "python",
   "pygments_lexer": "ipython3",
   "version": "3.7.3"
  },
  "toc": {
   "base_numbering": 1,
   "nav_menu": {},
   "number_sections": true,
   "sideBar": true,
   "skip_h1_title": false,
   "title_cell": "Table of Contents",
   "title_sidebar": "Contents",
   "toc_cell": false,
   "toc_position": {},
   "toc_section_display": true,
   "toc_window_display": false
  }
 },
 "nbformat": 4,
 "nbformat_minor": 4
}
